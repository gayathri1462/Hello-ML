{
  "nbformat": 4,
  "nbformat_minor": 0,
  "metadata": {
    "colab": {
      "name": "Exploratory Data Analysis.ipynb",
      "provenance": [],
      "authorship_tag": "ABX9TyPBz4tNuC91P9p5EGQNzYVj",
      "include_colab_link": true
    },
    "kernelspec": {
      "name": "python3",
      "display_name": "Python 3"
    },
    "language_info": {
      "name": "python"
    }
  },
  "cells": [
    {
      "cell_type": "markdown",
      "metadata": {
        "id": "view-in-github",
        "colab_type": "text"
      },
      "source": [
        "<a href=\"https://colab.research.google.com/github/gayathri1462/Hello-ML/blob/main/Exploratory_Data_Analysis.ipynb\" target=\"_parent\"><img src=\"https://colab.research.google.com/assets/colab-badge.svg\" alt=\"Open In Colab\"/></a>"
      ]
    },
    {
      "cell_type": "code",
      "metadata": {
        "id": "yu7tNVImDRbv"
      },
      "source": [
        "# Load libraries\n",
        "import pandas\n",
        "import numpy as np\n",
        "import matplotlib.pyplot as plt\n",
        "import seaborn as sns"
      ],
      "execution_count": null,
      "outputs": []
    },
    {
      "cell_type": "code",
      "metadata": {
        "id": "7tszRaxrDzUQ"
      },
      "source": [
        "# Load dataset\n",
        "filename = \"/content/iris_data.csv\"\n",
        "# Read dataset\n",
        "dataset = pandas.read_csv(filename)"
      ],
      "execution_count": null,
      "outputs": []
    },
    {
      "cell_type": "code",
      "metadata": {
        "colab": {
          "base_uri": "https://localhost:8080/"
        },
        "id": "2VOZKwYxECi3",
        "outputId": "262dd035-7ef0-46de-f14c-aa1318874c07"
      },
      "source": [
        "# shape\n",
        "print(dataset.shape)"
      ],
      "execution_count": null,
      "outputs": [
        {
          "output_type": "stream",
          "text": [
            "(173, 5)\n"
          ],
          "name": "stdout"
        }
      ]
    },
    {
      "cell_type": "code",
      "metadata": {
        "colab": {
          "base_uri": "https://localhost:8080/"
        },
        "id": "Z2QrBYPmEGv1",
        "outputId": "8b4b6bc0-349b-4c14-bad6-b5de88b14625"
      },
      "source": [
        "# head\n",
        "print(dataset.head(5))"
      ],
      "execution_count": null,
      "outputs": [
        {
          "output_type": "stream",
          "text": [
            "   SepalLengthCm  SepalWidthCm  PetalLengthCm  PetalWidthCm      Species\n",
            "0            5.1           3.5            1.4           0.2  Iris-setosa\n",
            "1            4.7           3.2            1.6           0.2  Iris-setosa\n",
            "2            4.9           3.1            1.5           0.1  Iris-setosa\n",
            "3            4.4           2.9            1.4           0.2  Iris-setosa\n",
            "4            5.0           3.4            1.5           0.2  Iris-setosa\n"
          ],
          "name": "stdout"
        }
      ]
    },
    {
      "cell_type": "code",
      "metadata": {
        "colab": {
          "base_uri": "https://localhost:8080/"
        },
        "id": "wz4E6MC6EK3C",
        "outputId": "33f16dba-660d-4f13-cc1d-8841ed2a311a"
      },
      "source": [
        "# descriptions\n",
        "print(dataset.describe())"
      ],
      "execution_count": null,
      "outputs": [
        {
          "output_type": "stream",
          "text": [
            "       SepalLengthCm  SepalWidthCm  PetalLengthCm  PetalWidthCm\n",
            "count     170.000000    172.000000     169.000000    171.000000\n",
            "mean        5.834118      3.068605       3.718935      1.171345\n",
            "std         0.844972      0.444922       1.778207      0.763774\n",
            "min         4.300000      2.000000       1.000000      0.100000\n",
            "25%         5.100000      2.800000       1.500000      0.300000\n",
            "50%         5.800000      3.000000       4.300000      1.300000\n",
            "75%         6.400000      3.400000       5.100000      1.800000\n",
            "max         8.000000      4.400000       6.900000      2.500000\n"
          ],
          "name": "stdout"
        }
      ]
    },
    {
      "cell_type": "code",
      "metadata": {
        "colab": {
          "base_uri": "https://localhost:8080/"
        },
        "id": "ywEd4ycCEZqY",
        "outputId": "c05d7185-34b0-402d-cd95-8de5ea951f12"
      },
      "source": [
        "# information\n",
        "dataset.info()"
      ],
      "execution_count": null,
      "outputs": [
        {
          "output_type": "stream",
          "text": [
            "<class 'pandas.core.frame.DataFrame'>\n",
            "RangeIndex: 173 entries, 0 to 172\n",
            "Data columns (total 5 columns):\n",
            " #   Column         Non-Null Count  Dtype  \n",
            "---  ------         --------------  -----  \n",
            " 0   SepalLengthCm  170 non-null    float64\n",
            " 1   SepalWidthCm   172 non-null    float64\n",
            " 2   PetalLengthCm  169 non-null    float64\n",
            " 3   PetalWidthCm   171 non-null    float64\n",
            " 4   Species        173 non-null    object \n",
            "dtypes: float64(4), object(1)\n",
            "memory usage: 6.9+ KB\n"
          ],
          "name": "stdout"
        }
      ]
    },
    {
      "cell_type": "code",
      "metadata": {
        "colab": {
          "base_uri": "https://localhost:8080/"
        },
        "id": "OqpDVOldEto5",
        "outputId": "0708ca5f-61c6-4c17-af1f-37f51f93b0ad"
      },
      "source": [
        "# Total no of duplicates in the dataset\n",
        "dataset.duplicated().sum() "
      ],
      "execution_count": null,
      "outputs": [
        {
          "output_type": "execute_result",
          "data": {
            "text/plain": [
              "12"
            ]
          },
          "metadata": {
            "tags": []
          },
          "execution_count": 39
        }
      ]
    },
    {
      "cell_type": "code",
      "metadata": {
        "colab": {
          "base_uri": "https://localhost:8080/"
        },
        "id": "Bb67Etf0E6Xs",
        "outputId": "f2d1e154-2140-4028-cf7e-416c9a2ccbe5"
      },
      "source": [
        "# checking missing values\n",
        "dataset.isna().sum()"
      ],
      "execution_count": null,
      "outputs": [
        {
          "output_type": "execute_result",
          "data": {
            "text/plain": [
              "SepalLengthCm    3\n",
              "SepalWidthCm     1\n",
              "PetalLengthCm    4\n",
              "PetalWidthCm     2\n",
              "Species          0\n",
              "dtype: int64"
            ]
          },
          "metadata": {
            "tags": []
          },
          "execution_count": 40
        }
      ]
    },
    {
      "cell_type": "code",
      "metadata": {
        "id": "51dLnRXTBkYl"
      },
      "source": [
        "#fillna\n",
        "for column in dataset.columns[0:-1]:\n",
        "     dataset[column].fillna(value=dataset[column].mean(), inplace=True)"
      ],
      "execution_count": null,
      "outputs": []
    },
    {
      "cell_type": "code",
      "metadata": {
        "colab": {
          "base_uri": "https://localhost:8080/"
        },
        "id": "412hgTC5B_GR",
        "outputId": "e48407a8-358b-456b-c33e-a0481574db80"
      },
      "source": [
        "# check for null values\n",
        "dataset.isnull().values.any()"
      ],
      "execution_count": null,
      "outputs": [
        {
          "output_type": "execute_result",
          "data": {
            "text/plain": [
              "False"
            ]
          },
          "metadata": {
            "tags": []
          },
          "execution_count": 44
        }
      ]
    },
    {
      "cell_type": "code",
      "metadata": {
        "colab": {
          "base_uri": "https://localhost:8080/",
          "height": 279
        },
        "id": "u2VcRT4uFl6N",
        "outputId": "d0269fdb-1c93-4c6b-d300-56de8382c947"
      },
      "source": [
        "# Individual feature of dataset through a boxplot\n",
        "sns.boxplot(x=\"Species\", y=\"PetalLengthCm\", data=dataset)\n",
        "plt.savefig('plot1.png', dpi=300, bbox_inches='tight')\n",
        "plt.show()"
      ],
      "execution_count": null,
      "outputs": [
        {
          "output_type": "display_data",
          "data": {
            "image/png": "[encoded data removed]",
            "text/plain": [
              "<Figure size 432x288 with 1 Axes>"
            ]
          },
          "metadata": {
            "tags": [],
            "needs_background": "light"
          }
        }
      ]
    },
    {
      "cell_type": "code",
      "metadata": {
        "colab": {
          "base_uri": "https://localhost:8080/",
          "height": 513
        },
        "id": "6zthd6MhI0Ks",
        "outputId": "cd1bcab4-20a6-4f09-fe44-20f01711cc6a"
      },
      "source": [
        "# Scatterplot\n",
        "sns.FacetGrid(dataset, hue=\"Species\", height=7).map(plt.scatter,\"SepalLengthCm\", \"SepalWidthCm\").add_legend()\n",
        "plt.savefig('plot2.png', dpi=300, bbox_inches='tight')\n",
        "plt.show()"
      ],
      "execution_count": null,
      "outputs": [
        {
          "output_type": "display_data",
          "data": {
            "image/png": "[encoded data removed]",
            "text/plain": [
              "<Figure size 607.25x504 with 1 Axes>"
            ]
          },
          "metadata": {
            "tags": [],
            "needs_background": "light"
          }
        }
      ]
    },
    {
      "cell_type": "code",
      "metadata": {
        "colab": {
          "base_uri": "https://localhost:8080/"
        },
        "id": "s9hyAI-OMVEq",
        "outputId": "38a9e494-a97d-4e01-9e81-68dfe71f661d"
      },
      "source": [
        "# Interquartile range\n",
        "for column in dataset.columns[1:-1]:\n",
        "    for specy in dataset[\"Species\"].unique():\n",
        "        Specy_type = dataset[dataset[\"Species\"] == specy]\n",
        "        Selected_column = Specy_type[column]\n",
        "        q1 = Selected_column.quantile(0.25) # for select first quartile\n",
        "        q3 = Selected_column.quantile(0.75) # for select third quartile\n",
        "        iqr = q3 - q1 # this is interquartile range\n",
        "        upper_limit = q3 + 1.5 * iqr\n",
        "        lower_limit = q1 - 1.5 * iqr        \n",
        "        outliers = Selected_column[(Selected_column > upper_limit) | (Selected_column < lower_limit)].index # picking outliers' indeces\n",
        "        print(outliers)\n",
        "        dataset.drop(index = outliers, inplace=True) # dropping outliers\n",
        "        "
      ],
      "execution_count": null,
      "outputs": [
        {
          "output_type": "stream",
          "text": [
            "Int64Index([41, 56, 59], dtype='int64')\n",
            "Int64Index([91], dtype='int64')\n",
            "Int64Index([146], dtype='int64')\n",
            "Int64Index([14, 22, 27, 50, 52, 60], dtype='int64')\n",
            "Int64Index([], dtype='int64')\n",
            "Int64Index([], dtype='int64')\n",
            "Int64Index([19, 43, 54, 55], dtype='int64')\n",
            "Int64Index([], dtype='int64')\n",
            "Int64Index([172], dtype='int64')\n"
          ],
          "name": "stdout"
        }
      ]
    },
    {
      "cell_type": "code",
      "metadata": {
        "colab": {
          "base_uri": "https://localhost:8080/",
          "height": 390
        },
        "id": "F9jV08PAM0pA",
        "outputId": "67dd228f-0231-4f3f-fad4-0774857c0706"
      },
      "source": [
        "# histogram\n",
        "dataset.hist(figsize= (12,6))\n",
        "plt.savefig('plot3.png', dpi=300, bbox_inches='tight')\n",
        "plt.show()"
      ],
      "execution_count": null,
      "outputs": [
        {
          "output_type": "display_data",
          "data": {
            "image/png": "[encoded data removed]",
            "text/plain": [
              "<Figure size 864x432 with 4 Axes>"
            ]
          },
          "metadata": {
            "tags": [],
            "needs_background": "light"
          }
        }
      ]
    },
    {
      "cell_type": "code",
      "metadata": {
        "colab": {
          "base_uri": "https://localhost:8080/",
          "height": 338
        },
        "id": "oYsw4JQTNpEa",
        "outputId": "5969bfca-79dd-4e09-beb8-8628a0f7c7b5"
      },
      "source": [
        "# Plotting heat map\n",
        "sns.heatmap(dataset.corr(), cmap=\"Blues\", annot=True)\n",
        "plt.savefig('plot4.png', dpi=300, bbox_inches='tight')\n",
        "plt.show()"
      ],
      "execution_count": null,
      "outputs": [
        {
          "output_type": "display_data",
          "data": {
            "image/png": "[encoded data removed]",
            "text/plain": [
              "<Figure size 432x288 with 2 Axes>"
            ]
          },
          "metadata": {
            "tags": [],
            "needs_background": "light"
          }
        }
      ]
    }
  ]
}